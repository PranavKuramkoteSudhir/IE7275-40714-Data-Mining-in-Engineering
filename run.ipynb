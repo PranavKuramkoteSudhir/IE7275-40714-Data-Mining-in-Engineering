{
 "cells": [
  {
   "cell_type": "markdown",
   "id": "29adf6a4-de53-4dda-9f62-5d842761378a",
   "metadata": {},
   "source": [
    "# Run the best model on the entire dataset"
   ]
  },
  {
   "cell_type": "code",
   "execution_count": 8,
   "id": "4005f377-3f86-4efb-850b-3493d002c82f",
   "metadata": {},
   "outputs": [],
   "source": [
    "from sklearn.model_selection import train_test_split\n",
    "from sklearn.impute import SimpleImputer\n",
    "from sklearn.preprocessing import MinMaxScaler\n",
    "from sklearn.ensemble import RandomForestRegressor\n",
    "from sklearn.metrics import mean_squared_error, r2_score\n",
    "import pandas as pd"
   ]
  },
  {
   "cell_type": "code",
   "execution_count": 6,
   "id": "a45fcad2-bbdf-4619-987c-0ce7847648cf",
   "metadata": {},
   "outputs": [],
   "source": [
    "path = 'lifeexpectancy_test_updated.csv'\n",
    "df = pd.read_csv(path)"
   ]
  },
  {
   "cell_type": "code",
   "execution_count": 9,
   "id": "fc3f9355-96fb-4a9b-8858-05e5c0856038",
   "metadata": {},
   "outputs": [
    {
     "name": "stdout",
     "output_type": "stream",
     "text": [
      "Test MSE: 0.41863114861608136\n",
      "Test R^2: 0.9950783031926469\n"
     ]
    }
   ],
   "source": [
    "# Assuming 'df' is the DataFrame containing the full dataset\n",
    "df.dropna()\n",
    "\n",
    "# Separate features and target variable before normalization\n",
    "X = df.drop(['Age at death', 'mortality rate', 'mean household income'], axis=1)\n",
    "y = df['Age at death']\n",
    "\n",
    "# Normalize the features\n",
    "scaler = MinMaxScaler()\n",
    "X_normalized = scaler.fit_transform(X)  # Directly normalizing X as there are no missing values\n",
    "X_normalized = pd.DataFrame(X_normalized, columns=X.columns)  # Convert back to DataFrame\n",
    "\n",
    "# Now perform the train-test split\n",
    "X_train, X_test, y_train, y_test = train_test_split(X_normalized, y, test_size=0.2, random_state=42)\n",
    "\n",
    "# Initialize the best model - RandomForestRegressor\n",
    "best_model = RandomForestRegressor(max_depth=None, n_estimators=200, random_state=42)\n",
    "\n",
    "# Fit the best model on the training data\n",
    "best_model.fit(X_train, y_train)\n",
    "\n",
    "# Evaluate the model on the test data\n",
    "y_pred = best_model.predict(X_test)\n",
    "mse = mean_squared_error(y_test, y_pred)\n",
    "r2 = r2_score(y_test, y_pred)\n",
    "\n",
    "print(f'Test MSE: {mse}')\n",
    "print(f'Test R^2: {r2}')"
   ]
  },
  {
   "cell_type": "code",
   "execution_count": null,
   "id": "d2cdd8fd-b25a-44c2-b2f8-824120a93ed2",
   "metadata": {},
   "outputs": [],
   "source": []
  }
 ],
 "metadata": {
  "kernelspec": {
   "display_name": "Python 3 (ipykernel)",
   "language": "python",
   "name": "python3"
  },
  "language_info": {
   "codemirror_mode": {
    "name": "ipython",
    "version": 3
   },
   "file_extension": ".py",
   "mimetype": "text/x-python",
   "name": "python",
   "nbconvert_exporter": "python",
   "pygments_lexer": "ipython3",
   "version": "3.11.5"
  }
 },
 "nbformat": 4,
 "nbformat_minor": 5
}
